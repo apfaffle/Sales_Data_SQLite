{
 "cells": [
  {
   "cell_type": "markdown",
   "metadata": {},
   "source": [
    "My SQL Sales Analysis Code"
   ]
  },
  {
   "cell_type": "code",
   "execution_count": 22,
   "metadata": {},
   "outputs": [],
   "source": [
    "import sqlite3\n",
    "import pandas as pd \n",
    "\n",
    "database = sqlite3.connect(\"sales_Analysis.db.sqlite\")\n",
    "\n",
    "cursor = database.cursor()"
   ]
  },
  {
   "cell_type": "markdown",
   "metadata": {},
   "source": [
    "GENERAL QUERIES"
   ]
  },
  {
   "cell_type": "code",
   "execution_count": 21,
   "metadata": {},
   "outputs": [
    {
     "data": {
      "text/html": [
       "<div>\n",
       "<style scoped>\n",
       "    .dataframe tbody tr th:only-of-type {\n",
       "        vertical-align: middle;\n",
       "    }\n",
       "\n",
       "    .dataframe tbody tr th {\n",
       "        vertical-align: top;\n",
       "    }\n",
       "\n",
       "    .dataframe thead th {\n",
       "        text-align: right;\n",
       "    }\n",
       "</style>\n",
       "<table border=\"1\" class=\"dataframe\">\n",
       "  <thead>\n",
       "    <tr style=\"text-align: right;\">\n",
       "      <th></th>\n",
       "      <th>Product_ID</th>\n",
       "      <th>Sale_Date</th>\n",
       "      <th>Sales_Rep</th>\n",
       "      <th>Region</th>\n",
       "      <th>Sales_Amount</th>\n",
       "      <th>Quantity_Sold</th>\n",
       "      <th>Product_Category</th>\n",
       "      <th>Unit_Cost</th>\n",
       "      <th>Unit_Price</th>\n",
       "      <th>Customer_Type</th>\n",
       "      <th>Discount</th>\n",
       "      <th>Payment_Method</th>\n",
       "      <th>Sales_Channel</th>\n",
       "      <th>Region_and_Sales_Rep</th>\n",
       "    </tr>\n",
       "  </thead>\n",
       "  <tbody>\n",
       "    <tr>\n",
       "      <th>0</th>\n",
       "      <td>1052</td>\n",
       "      <td>2023-02-03</td>\n",
       "      <td>Bob</td>\n",
       "      <td>North</td>\n",
       "      <td>5053.97</td>\n",
       "      <td>18</td>\n",
       "      <td>Furniture</td>\n",
       "      <td>152.75</td>\n",
       "      <td>267.22</td>\n",
       "      <td>Returning</td>\n",
       "      <td>0.09</td>\n",
       "      <td>Cash</td>\n",
       "      <td>Online</td>\n",
       "      <td>North-Bob</td>\n",
       "    </tr>\n",
       "    <tr>\n",
       "      <th>1</th>\n",
       "      <td>1093</td>\n",
       "      <td>2023-04-21</td>\n",
       "      <td>Bob</td>\n",
       "      <td>West</td>\n",
       "      <td>4384.02</td>\n",
       "      <td>17</td>\n",
       "      <td>Furniture</td>\n",
       "      <td>3816.39</td>\n",
       "      <td>4209.44</td>\n",
       "      <td>Returning</td>\n",
       "      <td>0.11</td>\n",
       "      <td>Cash</td>\n",
       "      <td>Retail</td>\n",
       "      <td>West-Bob</td>\n",
       "    </tr>\n",
       "    <tr>\n",
       "      <th>2</th>\n",
       "      <td>1015</td>\n",
       "      <td>2023-09-21</td>\n",
       "      <td>David</td>\n",
       "      <td>South</td>\n",
       "      <td>4631.23</td>\n",
       "      <td>30</td>\n",
       "      <td>Food</td>\n",
       "      <td>261.56</td>\n",
       "      <td>371.4</td>\n",
       "      <td>Returning</td>\n",
       "      <td>0.2</td>\n",
       "      <td>Bank Transfer</td>\n",
       "      <td>Retail</td>\n",
       "      <td>South-David</td>\n",
       "    </tr>\n",
       "    <tr>\n",
       "      <th>3</th>\n",
       "      <td>1072</td>\n",
       "      <td>2023-08-24</td>\n",
       "      <td>Bob</td>\n",
       "      <td>South</td>\n",
       "      <td>2167.94</td>\n",
       "      <td>39</td>\n",
       "      <td>Clothing</td>\n",
       "      <td>4330.03</td>\n",
       "      <td>4467.75</td>\n",
       "      <td>New</td>\n",
       "      <td>0.02</td>\n",
       "      <td>Credit Card</td>\n",
       "      <td>Retail</td>\n",
       "      <td>South-Bob</td>\n",
       "    </tr>\n",
       "    <tr>\n",
       "      <th>4</th>\n",
       "      <td>1061</td>\n",
       "      <td>2023-03-24</td>\n",
       "      <td>Charlie</td>\n",
       "      <td>East</td>\n",
       "      <td>3750.2</td>\n",
       "      <td>13</td>\n",
       "      <td>Electronics</td>\n",
       "      <td>637.37</td>\n",
       "      <td>692.71</td>\n",
       "      <td>New</td>\n",
       "      <td>0.08</td>\n",
       "      <td>Credit Card</td>\n",
       "      <td>Online</td>\n",
       "      <td>East-Charlie</td>\n",
       "    </tr>\n",
       "  </tbody>\n",
       "</table>\n",
       "</div>"
      ],
      "text/plain": [
       "  Product_ID   Sale_Date Sales_Rep Region Sales_Amount Quantity_Sold  \\\n",
       "0       1052  2023-02-03       Bob  North      5053.97            18   \n",
       "1       1093  2023-04-21       Bob   West      4384.02            17   \n",
       "2       1015  2023-09-21     David  South      4631.23            30   \n",
       "3       1072  2023-08-24       Bob  South      2167.94            39   \n",
       "4       1061  2023-03-24   Charlie   East       3750.2            13   \n",
       "\n",
       "  Product_Category Unit_Cost Unit_Price Customer_Type Discount Payment_Method  \\\n",
       "0        Furniture    152.75     267.22     Returning     0.09           Cash   \n",
       "1        Furniture   3816.39    4209.44     Returning     0.11           Cash   \n",
       "2             Food    261.56      371.4     Returning      0.2  Bank Transfer   \n",
       "3         Clothing   4330.03    4467.75           New     0.02    Credit Card   \n",
       "4      Electronics    637.37     692.71           New     0.08    Credit Card   \n",
       "\n",
       "  Sales_Channel Region_and_Sales_Rep  \n",
       "0        Online            North-Bob  \n",
       "1        Retail             West-Bob  \n",
       "2        Retail          South-David  \n",
       "3        Retail            South-Bob  \n",
       "4        Online         East-Charlie  "
      ]
     },
     "execution_count": 21,
     "metadata": {},
     "output_type": "execute_result"
    }
   ],
   "source": [
    "# View first 5 rows\n",
    "df= pd.read_sql_query(\"SELECT * FROM sales_table LIMIT 5;\", database)\n",
    "\n",
    "df"
   ]
  },
  {
   "cell_type": "code",
   "execution_count": 23,
   "metadata": {},
   "outputs": [
    {
     "name": "stdout",
     "output_type": "stream",
     "text": [
      "(0, 'Product_ID', 'TEXT', 0, None, 0)\n",
      "(1, 'Sale_Date', 'TEXT', 0, None, 0)\n",
      "(2, 'Sales_Rep', 'TEXT', 0, None, 0)\n",
      "(3, 'Region', 'TEXT', 0, None, 0)\n",
      "(4, 'Sales_Amount', 'TEXT', 0, None, 0)\n",
      "(5, 'Quantity_Sold', 'TEXT', 0, None, 0)\n",
      "(6, 'Product_Category', 'TEXT', 0, None, 0)\n",
      "(7, 'Unit_Cost', 'TEXT', 0, None, 0)\n",
      "(8, 'Unit_Price', 'TEXT', 0, None, 0)\n",
      "(9, 'Customer_Type', 'TEXT', 0, None, 0)\n",
      "(10, 'Discount', 'TEXT', 0, None, 0)\n",
      "(11, 'Payment_Method', 'TEXT', 0, None, 0)\n",
      "(12, 'Sales_Channel', 'TEXT', 0, None, 0)\n",
      "(13, 'Region_and_Sales_Rep', 'TEXT', 0, None, 0)\n"
     ]
    }
   ],
   "source": [
    "# Check Column Names and Types\n",
    "cursor.execute(\"PRAGMA table_info(sales_table);\")\n",
    "columns = cursor.fetchall()\n",
    "for col in columns:\n",
    "    print(col)"
   ]
  },
  {
   "cell_type": "code",
   "execution_count": 24,
   "metadata": {},
   "outputs": [
    {
     "name": "stdout",
     "output_type": "stream",
     "text": [
      "Total rows: 1000\n"
     ]
    }
   ],
   "source": [
    "# Show how many rows are in the dataset\n",
    "cursor.execute(\"SELECT COUNT(*) FROM sales_table;\")\n",
    "print(\"Total rows:\", cursor.fetchone()[0])\n"
   ]
  },
  {
   "cell_type": "markdown",
   "metadata": {},
   "source": [
    "PERFORMANCE ANALYSIS"
   ]
  },
  {
   "cell_type": "code",
   "execution_count": 25,
   "metadata": {},
   "outputs": [
    {
     "name": "stdout",
     "output_type": "stream",
     "text": [
      "Region: North\n",
      "Amount Sold: 1369613.0\n",
      "---\n",
      "Region: East\n",
      "Amount Sold: 1259793.0\n",
      "---\n",
      "Region: West\n",
      "Amount Sold: 1235609.0\n",
      "---\n",
      "Region: South\n",
      "Amount Sold: 1154251.0\n"
     ]
    }
   ],
   "source": [
    "# Total Sales By Region\n",
    "cursor.execute(\"\"\" \n",
    "        SELECT Region, ROUND(SUM(Sales_Amount),0) AS Total_Sales\n",
    "        FROM sales_table\n",
    "        GROUP BY Region\n",
    "        ORDER BY Total_Sales Desc; \"\"\")\n",
    "\n",
    "region_sales = cursor.fetchall()\n",
    "for index, row in enumerate(region_sales):\n",
    "    if index > 0: \n",
    "        print(\"---\")\n",
    "    print(f\"Region: {row[0]}\\nAmount Sold: {row[1]}\")"
   ]
  },
  {
   "cell_type": "code",
   "execution_count": 26,
   "metadata": {},
   "outputs": [
    {
     "name": "stdout",
     "output_type": "stream",
     "text": [
      "Sales Rep: David\n",
      "Amount Sold: 1141737.36\n",
      "---\n",
      "Sales Rep: Bob\n",
      "Amount Sold: 1080990.63\n",
      "---\n",
      "Sales Rep: Eve\n",
      "Amount Sold: 970183.99\n",
      "---\n",
      "Sales Rep: Alice\n",
      "Amount Sold: 965541.77\n",
      "---\n",
      "Sales Rep: Charlie\n",
      "Amount Sold: 860811.48\n"
     ]
    }
   ],
   "source": [
    "# Find Top 5 Sales Reps\n",
    "cursor.execute(\"\"\"\n",
    "        SELECT Sales_Rep, ROUND(SUM(Sales_Amount),2) AS Total_Sales_By_Rep\n",
    "        FROM sales_table\n",
    "        GROUP BY Sales_Rep\n",
    "        ORDER BY Total_Sales_By_Rep Desc\n",
    "        LIMIT 5; \"\"\")                          # In this dataset, there are only 5 sales reps, so only 5 will be shown.\n",
    "\n",
    "sales_reps_results = cursor.fetchall()\n",
    "for index, row in enumerate(sales_reps_results):\n",
    "    if index > 0: \n",
    "        print(\"---\")\n",
    "    print(f\"Sales Rep: {row[0]}\\nAmount Sold: {row[1]}\")\n"
   ]
  },
  {
   "cell_type": "code",
   "execution_count": 27,
   "metadata": {},
   "outputs": [
    {
     "name": "stdout",
     "output_type": "stream",
     "text": [
      "David's sales Performance By Month For 2023:\n",
      "\n",
      "Month     Sales Amount\n",
      "------------------------------\n",
      "01        62713.0\n",
      "02        89292.0\n",
      "03        85578.0\n",
      "04        80145.0\n",
      "05        74809.0\n",
      "06        69234.0\n",
      "07        79501.0\n",
      "08        99625.0\n",
      "09        62550.0\n",
      "10        192511.0\n",
      "11        112730.0\n",
      "12        124671.0\n"
     ]
    }
   ],
   "source": [
    "# Since David has the highest sales amount amongst the sales reps, we will look over his performance over the 2023 year.\n",
    "# Rank David's Sales Over 2023\n",
    "cursor.execute(\"\"\"\n",
    "    SELECT strftime('%m', Sale_Date) AS Month, \n",
    "           ROUND(SUM(Sales_Amount), 0)\n",
    "    FROM sales_table\n",
    "    WHERE Sales_Rep = 'David' AND strftime('%Y', Sale_Date) = '2023'         \n",
    "    GROUP BY Month\n",
    "    ORDER BY Month; \"\"\")\n",
    "                                                        # Can Change Year to 2024 to find David's 2024 performance\n",
    "\n",
    "\n",
    "cust_rep_yr = cursor.fetchall()\n",
    "print(\"David's sales Performance By Month For 2023:\\n\")\n",
    "print(f\"{'Month':<10}{'Sales Amount'}\")\n",
    "print(\"-\" * 30)\n",
    "\n",
    "for index, row in enumerate(cust_rep_yr):\n",
    "    print(f\"{row[0]:<10}{row[1]}\")\n"
   ]
  },
  {
   "cell_type": "code",
   "execution_count": 28,
   "metadata": {},
   "outputs": [
    {
     "name": "stdout",
     "output_type": "stream",
     "text": [
      "David's sales Performance In October 2023:\n",
      "\n",
      "Product ID     Sales Amount   Quantity Sold\n",
      "---------------------------------------------\n",
      "1035           9476.2         1\n",
      "1034           8919.47        34\n",
      "1095           8828.74        21\n",
      "1089           7751.92        43\n",
      "1052           7444.77        46\n",
      "1089           7405.38        15\n",
      "1036           6499.94        49\n",
      "1053           6033.09        1\n",
      "1002           5842.88        30\n",
      "1012           4384.88        34\n",
      "1025           3422.54        44\n",
      "1033           1115.42        43\n"
     ]
    }
   ],
   "source": [
    "# Find Sales in the North region, by David, throughout the month of October of 2023. All three are the most profitable region, sales rep, and month for said sales rep.\n",
    "cursor.execute(\"\"\"\n",
    "        SELECT Product_ID, Sales_Amount, Quantity_Sold\n",
    "               FROM sales_table\n",
    "               WHERE Sales_Rep = 'David'\n",
    "                AND strftime('%Y', Sale_Date) = '2023' \n",
    "                AND strftime('%m', Sale_Date) = '10'\n",
    "                AND Region = \"North\"\n",
    "               ORDER BY Sales_Amount Desc;\n",
    "\"\"\")\n",
    "\n",
    "cust_rep_stats = cursor.fetchall()\n",
    "print(\"David's sales Performance In October 2023:\\n\")\n",
    "print(f\"{'Product ID':<15}{'Sales Amount':<15}{'Quantity Sold'}\")\n",
    "print(\"-\" * 45)\n",
    "\n",
    "for index, row in enumerate(cust_rep_stats):\n",
    "    print(f\"{row[0]:<15}{row[1]:<15}{row[2]}\")"
   ]
  },
  {
   "cell_type": "markdown",
   "metadata": {},
   "source": [
    "CUSTOMER ANALYSIS"
   ]
  },
  {
   "cell_type": "code",
   "execution_count": 30,
   "metadata": {},
   "outputs": [
    {
     "name": "stdout",
     "output_type": "stream",
     "text": [
      "Customer Type: New\n",
      "Amount of Sales: 504\n",
      "Percentage of Total Sales: 50.4\n",
      "---\n",
      "Customer Type: Returning\n",
      "Amount of Sales: 496\n",
      "Percentage of Total Sales: 49.6\n"
     ]
    }
   ],
   "source": [
    "# Find Percentage of Sales that are Returning and New Customers\n",
    "cursor.execute(\"\"\"\n",
    "    SELECT Customer_Type, COUNT(*) AS Total_Sales, ROUND(100.0 * COUNT(*) / (SELECT COUNT(*) FROM sales_table),1) AS Percentage\n",
    "    FROM sales_table\n",
    "    GROUP BY Customer_Type;               \n",
    "\"\"\")\n",
    "\n",
    "customer_type_per = cursor.fetchall()\n",
    "for index, row in enumerate(customer_type_per):\n",
    "    if index > 0: \n",
    "        print(\"---\")\n",
    "    print(f\"Customer Type: {row[0]}\\nAmount of Sales: {row[1]}\\nPercentage of Total Sales: {row[2]}\")\n",
    "\n"
   ]
  },
  {
   "cell_type": "code",
   "execution_count": 32,
   "metadata": {},
   "outputs": [
    {
     "name": "stdout",
     "output_type": "stream",
     "text": [
      "Customer Type: New\n",
      "Average Sales Amount: 4973.0\n",
      "---\n",
      "Customer Type: Returning\n",
      "Average Sales Amount: 5067.0\n"
     ]
    }
   ],
   "source": [
    "# Find Average sales amount per customer type\n",
    "cursor.execute(\"\"\"\n",
    "    SELECT Customer_Type, ROUND(AVG(Sales_Amount), 0) AS Avg_Sales\n",
    "    FROM sales_table\n",
    "    GROUP BY Customer_Type;\n",
    "\"\"\")\n",
    "\n",
    "avg_sales_result = cursor.fetchall()\n",
    "for index, row in enumerate(avg_sales_result):\n",
    "    if index > 0: \n",
    "        print(\"---\")\n",
    "    print(f\"Customer Type: {row[0]}\\nAverage Sales Amount: {row[1]}\")"
   ]
  },
  {
   "cell_type": "code",
   "execution_count": 33,
   "metadata": {},
   "outputs": [
    {
     "name": "stdout",
     "output_type": "stream",
     "text": [
      "Frequency Purchases:\n",
      "\n",
      "Customer Type     Product Category  Frequency\n",
      "---------------------------------------------\n",
      "Returning         Furniture         146\n",
      "New               Clothing          143\n",
      "New               Electronics       136\n",
      "Returning         Clothing          125\n",
      "Returning         Food              115\n",
      "New               Furniture         114\n",
      "New               Food              111\n",
      "Returning         Electronics       110\n"
     ]
    }
   ],
   "source": [
    "# Find Frequency of Purchases by Customer Type and Product Category\n",
    "cursor.execute(\"\"\"\n",
    "    SELECT Customer_Type, Product_Category, COUNT(*) AS Purchase_Frequency\n",
    "    FROM sales_table\n",
    "    GROUP BY Customer_Type, Product_Category\n",
    "    ORDER BY Purchase_Frequency DESC;                    \n",
    "\"\"\")                            # Can swap ORDER BY to Customer_Type to split New/Returning customers\n",
    "\n",
    "frequency_purchases = cursor.fetchall()\n",
    "print(\"Frequency Purchases:\\n\")\n",
    "print(f\"{'Customer Type':<18}{'Product Category':<18}{'Frequency'}\")\n",
    "print(\"-\" * 45)\n",
    "\n",
    "for index, row in enumerate(frequency_purchases):\n",
    "    print(f\"{row[0]:<18}{row[1]:<18}{row[2]}\")"
   ]
  },
  {
   "cell_type": "code",
   "execution_count": 37,
   "metadata": {},
   "outputs": [
    {
     "name": "stdout",
     "output_type": "stream",
     "text": [
      "Payment Method: Credit Card\n",
      "Customer Type: Returning\n",
      "Transaction Amount: $920894.22\n",
      "---\n",
      "Payment Method: Bank Transfer\n",
      "Customer Type: New\n",
      "Transaction Amount: $889778.5\n",
      "---\n",
      "Payment Method: Credit Card\n",
      "Customer Type: New\n",
      "Transaction Amount: $836669.3\n",
      "---\n",
      "Payment Method: Bank Transfer\n",
      "Customer Type: Returning\n",
      "Transaction Amount: $827584.67\n",
      "---\n",
      "Payment Method: Cash\n",
      "Customer Type: New\n",
      "Transaction Amount: $779810.5\n",
      "---\n",
      "Payment Method: Cash\n",
      "Customer Type: Returning\n",
      "Transaction Amount: $764528.04\n"
     ]
    }
   ],
   "source": [
    "#Find Preffered Payment Type\n",
    "cursor.execute(\"\"\"\n",
    "    SELECT Payment_Method, Customer_Type, ROUND(SUM(Sales_Amount),2) AS Payment_Sales\n",
    "    FROM sales_table\n",
    "    GROUP BY Payment_Method, Customer_Type\n",
    "    ORDER BY Payment_Sales DESC;\n",
    "\"\"\")\n",
    "\n",
    "Payment_Type = cursor.fetchall()\n",
    "for index, row in enumerate(Payment_Type):\n",
    "    if index > 0: \n",
    "        print(\"---\")\n",
    "    print(f\"Payment Method: {row[0]}\\nCustomer Type: {row[1]}\\nTransaction Amount: ${row[2]}\")"
   ]
  },
  {
   "cell_type": "markdown",
   "metadata": {},
   "source": [
    "PRODUCT ANALYSIS"
   ]
  },
  {
   "cell_type": "code",
   "execution_count": 38,
   "metadata": {},
   "outputs": [
    {
     "name": "stdout",
     "output_type": "stream",
     "text": [
      "Product Category: Clothing\n",
      "Product Sold: 6922\n",
      "---\n",
      "Product Category: Furniture\n",
      "Product Sold: 6729\n",
      "---\n",
      "Product Category: Electronics\n",
      "Product Sold: 6096\n",
      "---\n",
      "Product Category: Food\n",
      "Product Sold: 5608\n"
     ]
    }
   ],
   "source": [
    "# Find which products sell the most\n",
    "cursor.execute(\"\"\"\n",
    "    SELECT Product_Category, SUM(Quantity_Sold) AS Total_Quantity_Sold\n",
    "    FROM sales_table\n",
    "    GROUP BY Product_Category\n",
    "    ORDER BY Total_Quantity_Sold DESC; \"\"\")\n",
    "\n",
    "product_info = cursor.fetchall()\n",
    "for index, row in enumerate(product_info):\n",
    "    if index > 0: \n",
    "        print(\"---\")\n",
    "    print(f\"Product Category: {row[0]}\\nProduct Sold: {row[1]}\")"
   ]
  },
  {
   "cell_type": "code",
   "execution_count": 39,
   "metadata": {},
   "outputs": [
    {
     "name": "stdout",
     "output_type": "stream",
     "text": [
      "Product Category: Clothing\n",
      "Total Product Cost: $662117.0\n",
      "---\n",
      "Product Category: Furniture\n",
      "Total Product Cost: $642828.0\n",
      "---\n",
      "Product Category: Electronics\n",
      "Total Product Cost: $626151.0\n",
      "---\n",
      "Product Category: Food\n",
      "Total Product Cost: $544208.0\n"
     ]
    }
   ],
   "source": [
    "# Find Which Products Cost The Most\n",
    "cursor.execute(\"\"\"\n",
    "    SELECT Product_Category, ROUND(SUM(Unit_Cost),0) AS Total_Cost\n",
    "    FROM sales_table\n",
    "    GROUP BY Product_Category\n",
    "    ORDER BY Total_Cost DESC;\n",
    "\"\"\")\n",
    "\n",
    "product_cost = cursor.fetchall()\n",
    "for index, row in enumerate(product_cost):\n",
    "    if index > 0: \n",
    "        print(\"---\")\n",
    "    print(f\"Product Category: {row[0]}\\nTotal Product Cost: ${row[1]}\")"
   ]
  },
  {
   "cell_type": "code",
   "execution_count": 40,
   "metadata": {},
   "outputs": [
    {
     "name": "stdout",
     "output_type": "stream",
     "text": [
      "Product Category: Electronics\n",
      "Avg Unit Cost: $2545.33\n",
      "---\n",
      "Product Category: Furniture\n",
      "Avg Unit Cost: $2472.42\n",
      "---\n",
      "Product Category: Clothing\n",
      "Avg Unit Cost: $2470.59\n",
      "---\n",
      "Product Category: Food\n",
      "Avg Unit Cost: $2408.0\n"
     ]
    }
   ],
   "source": [
    "# Find cost per unit for each product category\n",
    "cursor.execute(\"\"\"\n",
    "    SELECT Product_Category,\n",
    "       ROUND(AVG(Unit_Cost),2) AS Avg_Unit_Cost\n",
    "    FROM sales_table\n",
    "    GROUP BY Product_Category\n",
    "    ORDER BY Avg_Unit_Cost DESC;         \n",
    "\"\"\")\n",
    "\n",
    "product_avg_cost = cursor.fetchall()\n",
    "for index, row in enumerate(product_avg_cost):\n",
    "    if index > 0: \n",
    "        print(\"---\")\n",
    "    print(f\"Product Category: {row[0]}\\nAvg Unit Cost: ${row[1]}\")"
   ]
  },
  {
   "cell_type": "code",
   "execution_count": 42,
   "metadata": {},
   "outputs": [
    {
     "name": "stdout",
     "output_type": "stream",
     "text": [
      "Product Category: Furniture\n",
      "Product Profit: $1778375.0\n",
      "---\n",
      "Product Category: Clothing\n",
      "Product Profit: $1711878.0\n",
      "---\n",
      "Product Category: Electronics\n",
      "Product Profit: $1573477.0\n",
      "---\n",
      "Product Category: Food\n",
      "Product Profit: $1420264.0\n"
     ]
    }
   ],
   "source": [
    "# Find The Most Profitable Product\n",
    "cursor.execute(\"\"\"\n",
    "    SELECT Product_Category, ROUND(SUM(((Unit_Price - Unit_Cost) * Quantity_Sold) - (Discount * Quantity_Sold)),0) AS Product_Profit        \n",
    "    FROM sales_table\n",
    "    GROUP BY Product_Category\n",
    "    ORDER BY Product_Profit DESC;\n",
    "\"\"\" )\n",
    "\n",
    "product_profit = cursor.fetchall()\n",
    "for index, row in enumerate(product_profit):\n",
    "    if index > 0: \n",
    "        print(\"---\")\n",
    "    print(f\"Product Category: {row[0]}\\nProduct Profit: ${row[1]}\")"
   ]
  }
 ],
 "metadata": {
  "kernelspec": {
   "display_name": "Python 3",
   "language": "python",
   "name": "python3"
  },
  "language_info": {
   "codemirror_mode": {
    "name": "ipython",
    "version": 3
   },
   "file_extension": ".py",
   "mimetype": "text/x-python",
   "name": "python",
   "nbconvert_exporter": "python",
   "pygments_lexer": "ipython3",
   "version": "3.11.9"
  }
 },
 "nbformat": 4,
 "nbformat_minor": 2
}
